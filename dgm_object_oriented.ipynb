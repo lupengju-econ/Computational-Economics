{
 "cells": [
  {
   "attachments": {},
   "cell_type": "markdown",
   "metadata": {},
   "source": [
    "# Numerical Simulation of the Simple Cake Eating Model\n",
    "Bellman equation:\n",
    "$$\n",
    "v(x) = \\max_{0\\le c \\le x} u(c) + \\beta v(x^{\\alpha} + (1 - \\delta) x - c),\\quad \\alpha \\in (0,1).\n",
    "$$"
   ]
  },
  {
   "attachments": {},
   "cell_type": "markdown",
   "metadata": {},
   "source": [
    "## Value Function Iteration"
   ]
  },
  {
   "cell_type": "code",
   "execution_count": 1,
   "metadata": {},
   "outputs": [],
   "source": [
    "import matplotlib.pyplot as plt\n",
    "import numpy as np\n",
    "from scipy.interpolate import interp1d, UnivariateSpline\n",
    "from scipy.optimize import minimize_scalar, bisect"
   ]
  },
  {
   "attachments": {},
   "cell_type": "markdown",
   "metadata": {},
   "source": [
    "Step1: Define a function called 'maximize' to solve maximizer and maximum of any function"
   ]
  },
  {
   "cell_type": "code",
   "execution_count": 2,
   "metadata": {},
   "outputs": [],
   "source": [
    "def maximize(g, lower_bound, upper_bound, *args):\n",
    "\t'''\n",
    "\tInput:  g: objective function\n",
    "\t\t    lower_bound: lower bound of the root\n",
    "\t\t    upper_bound: upper bound of the root\n",
    "\t\t    *args: other arguments for the objective function\n",
    "\tOutput: maximizer and maximum of the objective function in the domain of [lower_bound, upper_bound]\n",
    "\t\t    x_max = res[0], y_max = res[1]\n",
    "\t'''\n",
    "\tobjective = lambda x: -g(x, *args)\n",
    "\tresult = minimize_scalar(objective, bounds = (lower_bound, upper_bound), method = 'bounded')\n",
    "\tmaximizer, maximum = result.x, -result.fun\n",
    "\treturn maximizer, maximum"
   ]
  },
  {
   "attachments": {},
   "cell_type": "markdown",
   "metadata": {},
   "source": [
    "Step2: Define a DGM class"
   ]
  },
  {
   "cell_type": "code",
   "execution_count": 3,
   "metadata": {},
   "outputs": [],
   "source": [
    "class DGM:\n",
    "\tdef __init__(self,\n",
    "\t\t\t\t alpha = 0.33,\n",
    "\t\t\t\t beta = 0.96,\n",
    "\t\t\t\t gamma = 2,\n",
    "\t\t\t\t delta = 0.07,\n",
    "\t\t\t\t x_min = 0.1,\n",
    "\t\t\t\t x_max = 10,\n",
    "\t\t\t\t ngrid = 50):\n",
    "\t\tself.alpha = alpha\n",
    "\t\tself.beta = beta\n",
    "\t\tself.gamma = gamma\n",
    "\t\tself.delta = delta\n",
    "\t\tself.x_min = x_min\n",
    "\t\tself.x_max = x_max\n",
    "\t\tself.ngrid = ngrid\n",
    "\n",
    "\t\tself.xss = (self.alpha / (self.beta ** (-1) - (1 - self.delta))) ** (1 / (1 - self.alpha) )\n",
    "\t\t# self.x_min = 0.25 * self.xss\n",
    "\t\t# self.x_max = 2 * self.xss\n",
    "\t\tself.x_grid = np.linspace(self.x_min, self.x_max, self.ngrid)\n",
    "\t\n",
    "\tdef utility(self, c):\n",
    "\t\tgamma = self.gamma\n",
    "\t\tif (c > 0) and (gamma == 1):\n",
    "\t\t\treturn np.log(c)\n",
    "\t\telif (c > 0) and (gamma != 1):\n",
    "\t\t\treturn (c ** (1 - gamma))/(1 - gamma)\n",
    "\t\telse:\n",
    "\t\t\treturn -np.infty\n",
    "\n",
    "\tdef u_prime(self, c):\n",
    "\t\treturn c ** (-self.gamma)\n",
    "\t\n",
    "\tdef rhs(self, c, x, v): \n",
    "\t\t'''\n",
    "\t\tInput:  c: consumption at date t\n",
    "\t\t\t    x: resourdgm at date t\n",
    "\t\t\t    v: value function at date t\n",
    "\t\tOutput: u(c) + beta * v(x - c) a.k.a. the right-hand-side of bellman equation\n",
    "\t\t'''\n",
    "\t\tv_interp = interp1d(self.x_grid, v, kind = 'linear', fill_value = 'extrapolate') \n",
    "\t\t# v_interp = UnivariateSpline(x_grid, v, ext = 'extrapolate')\n",
    "\t\t# length of x_grid and v should be equal\n",
    "\t\tx_prime = x ** self.alpha + (1 - self.delta) * x - c\n",
    "\t\treturn self.utility(c) + self.beta * v_interp(x_prime)"
   ]
  },
  {
   "attachments": {},
   "cell_type": "markdown",
   "metadata": {},
   "source": [
    "Step3: Define the bellman operator and the function to iterate by value func"
   ]
  },
  {
   "cell_type": "code",
   "execution_count": 4,
   "metadata": {},
   "outputs": [],
   "source": [
    "def bellman_operator(v, dgm):\n",
    "\tv_new = np.zeros_like(v)\n",
    "\tc_p = np.zeros_like(v)\n",
    "\tfor i, xi in enumerate(dgm.x_grid):\n",
    "\t\tlower_bound = 1e-10 # minimal consumption constraint\n",
    "\t\tupper_bound = xi\n",
    "\t\tres = maximize(dgm.rhs, lower_bound, upper_bound, xi, v)\n",
    "\t\tc_p[i], v_new[i] = res[0], res[1]\n",
    "\treturn c_p, v_new\n",
    "\n",
    "def vfi(dgm,\n",
    "\t\ttol = 1e-6,\n",
    "\t\tmax_iter = 1000,\n",
    "\t\tverbose = True,\n",
    "\t\tprint_skip = 25):\n",
    "\t\n",
    "\tv = np.zeros_like(dgm.x_grid)\n",
    "\ti = 0\n",
    "\terror = 1\n",
    "\t\n",
    "\twhile (i < max_iter) and (error > tol):\n",
    "\t\tresult = bellman_operator(v, dgm)\n",
    "\t\tv_new = result[1]\n",
    "\t\terror = np.max(np.abs((v - v_new)/v_new))\n",
    "\t\ti += 1\n",
    "\t\tv = v_new\n",
    "\t\t\n",
    "\t\tif verbose and i % print_skip == 0:\n",
    "\t\t\tprint(f\"Error at iteration {i} is {error}\")\n",
    "\t\t\n",
    "\tif error > tol:\n",
    "\t\tprint(\"Failed to converge!\")\n",
    "\telse:\n",
    "\t\tprint(f\"Converged in {i} iterations.\")\n",
    "\t\n",
    "\tc_p = result[0]\n",
    "\treturn c_p, v_new"
   ]
  },
  {
   "cell_type": "code",
   "execution_count": 5,
   "metadata": {},
   "outputs": [
    {
     "name": "stdout",
     "output_type": "stream",
     "text": [
      "Error at iteration 25 is 0.031263179840197663\n",
      "Error at iteration 50 is 0.007866104896287624\n",
      "Error at iteration 75 is 0.0025395676339774118\n",
      "Error at iteration 100 is 0.0008813838912800456\n",
      "Error at iteration 125 is 0.0003134298246082148\n",
      "Error at iteration 150 is 0.00011241885297374843\n",
      "Error at iteration 175 is 4.044560865250412e-05\n",
      "Error at iteration 200 is 1.456741985182069e-05\n",
      "Error at iteration 225 is 5.248874809506499e-06\n",
      "Error at iteration 250 is 1.8915322341638694e-06\n",
      "Converged in 266 iterations.\n"
     ]
    }
   ],
   "source": [
    "dgm = DGM()\n",
    "res = vfi(dgm)\n",
    "c_p = res[0] # policy function\n",
    "v = res[1] # value function"
   ]
  },
  {
   "attachments": {},
   "cell_type": "markdown",
   "metadata": {},
   "source": [
    "## Visualize Results of Value Function Iteration"
   ]
  },
  {
   "cell_type": "code",
   "execution_count": 6,
   "metadata": {},
   "outputs": [
    {
     "data": {
      "image/png": "[encoded data removed]",
      "text/plain": [
       "<Figure size 640x480 with 1 Axes>"
      ]
     },
     "metadata": {},
     "output_type": "display_data"
    }
   ],
   "source": [
    "# fig1: Value Function\n",
    "plt.plot(dgm.x_grid, v, 'r-')\n",
    "plt.xlabel('$x_t$')\n",
    "plt.ylabel('$V(x_t)$')\n",
    "plt.title('Value Function')\n",
    "\n",
    "plt.savefig('fig_01_value_function_python.png', dpi = 300)\n",
    "plt.show()"
   ]
  },
  {
   "cell_type": "code",
   "execution_count": 7,
   "metadata": {},
   "outputs": [
    {
     "data": {
      "image/png": "[encoded data removed]",
      "text/plain": [
       "<Figure size 640x480 with 1 Axes>"
      ]
     },
     "metadata": {},
     "output_type": "display_data"
    }
   ],
   "source": [
    "# fig2: Policy Function\n",
    "plt.plot(dgm.x_grid, c_p, 'r-', label = '$c_t$')\n",
    "plt.plot(dgm.x_grid, dgm.x_grid ** dgm.alpha + (1 - dgm.delta) * dgm.x_grid - c_p, 'b--', label = '$x_{t+1}$')\n",
    "plt.xlabel('$x_t$')\n",
    "plt.ylabel('$c(x_t)/x_{t+1}(x_t)$')\n",
    "plt.legend(loc = 'best')\n",
    "plt.title('Policy Function')\n",
    "\n",
    "plt.savefig('fig_02_policy_function_python.png', dpi = 300)\n",
    "plt.show()"
   ]
  }
 ],
 "metadata": {
  "kernelspec": {
   "display_name": "base",
   "language": "python",
   "name": "python3"
  },
  "language_info": {
   "codemirror_mode": {
    "name": "ipython",
    "version": 3
   },
   "file_extension": ".py",
   "mimetype": "text/x-python",
   "name": "python",
   "nbconvert_exporter": "python",
   "pygments_lexer": "ipython3",
   "version": "3.9.13"
  },
  "orig_nbformat": 4,
  "vscode": {
   "interpreter": {
    "hash": "90ae384ec8aa6644af31da6e68cfa043ca5e4f959255e106df86226e1926c12a"
   }
  }
 },
 "nbformat": 4,
 "nbformat_minor": 2
}
